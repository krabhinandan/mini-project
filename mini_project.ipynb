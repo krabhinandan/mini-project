{
  "nbformat": 4,
  "nbformat_minor": 0,
  "metadata": {
    "colab": {
      "provenance": [],
      "authorship_tag": "ABX9TyMy4VnT+S5jf/71E+G1b72p",
      "include_colab_link": true
    },
    "kernelspec": {
      "name": "python3",
      "display_name": "Python 3"
    },
    "language_info": {
      "name": "python"
    }
  },
  "cells": [
    {
      "cell_type": "markdown",
      "metadata": {
        "id": "view-in-github",
        "colab_type": "text"
      },
      "source": [
        "<a href=\"https://colab.research.google.com/github/krabhinandan/mini-project/blob/main/mini_project.ipynb\" target=\"_parent\"><img src=\"https://colab.research.google.com/assets/colab-badge.svg\" alt=\"Open In Colab\"/></a>"
      ]
    },
    {
      "cell_type": "code",
      "execution_count": null,
      "metadata": {
        "colab": {
          "base_uri": "https://localhost:8080/"
        },
        "id": "RTm-SSvOpCu8",
        "outputId": "2be5281b-ab52-4206-986a-e68c48036694"
      },
      "outputs": [
        {
          "output_type": "stream",
          "name": "stdout",
          "text": [
            "Advanced Calculator\n",
            "\n",
            "Choose an operation:\n",
            "1. Addition (+)\n",
            "2. Subtraction (-)\n",
            "3. Multiplication (*)\n",
            "4. Division (/)\n",
            "5. Exponentiation (^)\n",
            "6. Square Root (√)\n",
            "7. Quit\n",
            "Enter the operation number (1-7): 7\n",
            "Exiting the calculator. Goodbye!\n"
          ]
        }
      ],
      "source": [
        "import math\n",
        "def calculator():\n",
        "    print(\"Advanced Calculator\")\n",
        "    while True:\n",
        "        print(\"\\nChoose an operation:\")\n",
        "        print(\"1. Addition (+)\")\n",
        "        print(\"2. Subtraction (-)\")\n",
        "        print(\"3. Multiplication (*)\")\n",
        "        print(\"4. Division (/)\")\n",
        "        print(\"5. Exponentiation (^)\")\n",
        "        print(\"6. Square Root (√)\")\n",
        "        print(\"7. Quit\")\n",
        "        choice = input(\"Enter the operation number (1-7): \")\n",
        "        if choice == '7':\n",
        "            print(\"Exiting the calculator. Goodbye!\")\n",
        "            break\n",
        "        if choice in ('1', '2', '3', '4', '5', '6'):\n",
        "            num1 = float(input(\"Enter the first number: \"))\n",
        "            if choice in ('1', '2', '3', '4', '5'):\n",
        "                num2 = float(input(\"Enter the second number: \"))\n",
        "            if choice == '1':\n",
        "                result = num1 + num2\n",
        "                print(\"Result: {:.2f}\".format(result))\n",
        "            elif choice == '2':\n",
        "                result = num1 - num2\n",
        "                print(\"Result: {:.2f}\".format(result))\n",
        "            elif choice == '3':\n",
        "                result = num1 * num2\n",
        "                print(\"Result: {:.2f}\".format(result))\n",
        "            elif choice == '4':\n",
        "                if num2 != 0:\n",
        "                    result = num1 / num2\n",
        "                    print(\"Result: {:.2f}\".format(result))\n",
        "                else:\n",
        "                    print(\"Error: Cannot divide by zero.\")\n",
        "            elif choice == '5':\n",
        "                result = num1 ** num2\n",
        "                print(\"Result: {:.2f}\".format(result))\n",
        "            elif choice == '6':\n",
        "                if num1 >= 0:\n",
        "                    result = math.sqrt(num1)\n",
        "                    print(\"Result: {:.2f}\".format(result))\n",
        "                else:\n",
        "                    print(\"Error: Cannot calculate square root of a negative number.\")\n",
        "        else:\n",
        "            print(\"Invalid choice. Please enter a number between 1 and 7.\")\n",
        "if __name__ == \"__main__\":\n",
        "    calculator()"
      ]
    },
    {
      "cell_type": "code",
      "source": [
        "n = 18\n",
        "number_of_guesses = 1\n",
        "print(\"number of guesses is limited to only 9 times\")\n",
        "while number_of_guesses <= 9:\n",
        "    guess_number = int(input(\"guess the number\\n\"))\n",
        "    if guess_number<18:\n",
        "        print(\"try a greater number\\n\")\n",
        "    elif guess_number>18:\n",
        "        print(\"try a smaller number\\n\")\n",
        "    else:\n",
        "        print(\"yayy you won\")\n",
        "        break\n",
        "        print(number_of_guesses, \"number of guesses you took to finish.\")\n",
        "    print(9-number_of_guesses, \"number of guesses left.\")\n",
        "    number_of_guesses=number_of_guesses+1\n",
        "if number_of_guesses>9:\n",
        "    print(\"game over\")"
      ],
      "metadata": {
        "colab": {
          "base_uri": "https://localhost:8080/"
        },
        "id": "RsTULrVRpENx",
        "outputId": "deeae827-f527-478d-a478-6cdd29ecad5e"
      },
      "execution_count": null,
      "outputs": [
        {
          "output_type": "stream",
          "name": "stdout",
          "text": [
            "number of guesses is limited to only 9 times\n",
            "guess the number\n",
            "18\n",
            "yayy you won\n"
          ]
        }
      ]
    }
  ]
}